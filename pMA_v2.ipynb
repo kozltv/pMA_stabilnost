{
 "cells": [
  {
   "cell_type": "code",
   "execution_count": 8,
   "metadata": {},
   "outputs": [],
   "source": [
    "import numpy as np\n",
    "import mne\n",
    "import pandas as pd\n",
    "import matplotlib.pyplot as plt\n",
    "\n",
    "%matplotlib widget"
   ]
  },
  {
   "cell_type": "markdown",
   "metadata": {},
   "source": [
    "## functions"
   ]
  },
  {
   "cell_type": "code",
   "execution_count": 2,
   "metadata": {},
   "outputs": [],
   "source": [
    "def find_movement(raw, time, mscl, window, thrs, thrs2, positive):\n",
    "    \n",
    "    # 0. Select data\n",
    "    # ms to select time window to find movement start (ms)\n",
    "    try:\n",
    "        start = time[0]\n",
    "        end=time[1]\n",
    "    except:\n",
    "        start = time[0]\n",
    "        end = raw.to_data_frame().time.max()\n",
    "\n",
    "    #filters\n",
    "    # low catoff\n",
    "    l = 5\n",
    "    # high catoff\n",
    "    h = 2200\n",
    "    \n",
    "    dat = raw.filter(l_freq=l, h_freq=h, verbose=False).to_data_frame()[(raw.filter(l_freq=l, h_freq=h,verbose=False).to_data_frame().time>=start)&(raw.filter(l_freq=l, h_freq=h,verbose=False).to_data_frame().time<=end)]\n",
    "    \n",
    "    # lists to save information  - do not change\n",
    "    time = []\n",
    "    cond_result = []\n",
    "    result = []\n",
    "\n",
    "    # 1. Sliding window to check condition \n",
    "    for m in range(dat.time.min(), dat.time.max()):\n",
    "\n",
    "        # selects data in the time window\n",
    "        wnd = np.abs(dat[(dat.time>=m)&(dat.time<=m+window)][mscl])\n",
    "\n",
    "        # check whether Share of picks higher than \"thrs\" is more than \"pisitive\" in the window\n",
    "        cond = np.where(wnd>=thrs, 1, 0).sum()/len(wnd)>=positive\n",
    "\n",
    "        # save condition check result (True, False) and first timestamp of the window\n",
    "        cond_result.append(cond)\n",
    "        time.append(m)\n",
    "\n",
    "        # save first timestamps of windows where cond was True\n",
    "        if cond == True:\n",
    "            result.append(m)\n",
    "\n",
    "\n",
    "    # 2. Find \"start\" and \"end\" of movement\n",
    "    result3 = pd.DataFrame({'times':time, 'result':cond_result})\n",
    "    result3['previous'] = result3.result.shift(1)\n",
    "    result3['change'] = result3.result - result3.previous\n",
    "\n",
    "    trig = result3[result3.change.isin([1,-1])].reset_index(drop=True)\n",
    "    trig['movement'] = np.where(trig.change==1, 'start', 'end')\n",
    "\n",
    "\n",
    "\n",
    "    # 3. select times in the suitable windows preciselly \n",
    "    res = []\n",
    "    for tr in trig.times:\n",
    "        wnd = np.abs(dat[(dat.time>=tr)&(dat.time<=tr+window)])\n",
    "\n",
    "        if trig[trig.times==tr].movement.values[0] == 'start':\n",
    "            # select time when uV achived thrs first\n",
    "            first = wnd[wnd[mscl]>=thrs2].time.min()\n",
    "            res.append(first)\n",
    "        else: \n",
    "            last = wnd[wnd[mscl]>=thrs2].time.max()\n",
    "            res.append(last)\n",
    "            \n",
    "    return res, dat\n",
    "\n",
    "\n",
    "def plot_signal(data, movement_time):\n",
    "    \n",
    "    fig, (ax0) = plt.subplots(nrows=1)\n",
    "\n",
    "    for r in movement_time:\n",
    "        ax0.axvline(x=r, color='r')\n",
    "\n",
    "    ax0.plot(data.time, data[mscl], label='signal')\n",
    "    ax0.legend()\n",
    "    \n",
    "    \n",
    "def plot_emg_events(raw, movement_time):\n",
    "    events = pd.DataFrame({'time':np.array(movement_time)*5, 'event_value':1, 'event_name':list(range(1,len(np.array(movement_time))+1))})\n",
    "    raw.plot(n_channels=1, event_color='red', \n",
    "             events=np.array(events), \n",
    "             scalings=1e-3, \n",
    "             highpass=10, lowpass=2200)\n",
    "    \n",
    "def create_events(movement_time):\n",
    "    events = pd.DataFrame({'time':np.array(movement_time), 'event_value':1, 'event_name':list(range(1,len(np.array(movement_time))+1))})\n",
    "    return events\n",
    "\n",
    "    \n",
    "\n",
    "from ipywidgets import widgets  \n",
    "from ipywidgets import interact, interactive, fixed, interact_manual \n",
    "\n",
    "def adjust_movements(ev):\n",
    "    \n",
    "    #raw file to dataframe\n",
    "    data = raw.filter(l_freq=5, h_freq=2200, verbose=False).to_data_frame()\n",
    "    \n",
    "    # create widget to list events with button 'next event'\n",
    "    button=widgets.Button(\n",
    "        value=False,\n",
    "        description='Next event',\n",
    "        disabled=False,\n",
    "        button_style='', # 'success', 'info', 'warning', 'danger' or ''\n",
    "        tooltip='Description',\n",
    "        icon='Saved' # (FontAwesome names without the `fa-` prefix)\n",
    "                        )\n",
    "\n",
    "    \n",
    "    l = [] # for loop - indexes list of redo events \n",
    "    new_ts = [] # list to save new times stamp\n",
    "\n",
    "    def plus(sender):\n",
    "        l.append(1)\n",
    "        index = np.array(l).sum()\n",
    "        try:\n",
    "            \n",
    "            # create windget to Change event position\n",
    "            w = widgets.FloatText(\n",
    "            value=ev[index-1],\n",
    "            min=ev[index-1]-800,\n",
    "            max=ev[index-1]+3000,\n",
    "            step=5,\n",
    "            description='New Value uV:',\n",
    "            disabled=False,\n",
    "            continuous_update=False,\n",
    "            orientation='horizontal',\n",
    "            )\n",
    "            \n",
    "            # function for visualisation of new timestamp based on windget to Change event position\n",
    "            def f(x):\n",
    "                fig, (ax0) = plt.subplots(nrows=1)\n",
    "                ax0.axvline(x=x, color='r')\n",
    "                ax0.plot(data[(data.time>=ev[index-1]-800)&(data.time<=ev[index-1]+3000)].time, \n",
    "                         data[(data.time>=ev[index-1]-800)&(data.time<=ev[index-1]+3000)][mscl], label='signal') \n",
    "\n",
    "            \n",
    "            # create Button to save new position\n",
    "            b=widgets.Button(\n",
    "                value=False,\n",
    "                description='Save timestamp',\n",
    "                disabled=False,\n",
    "                button_style='', # 'success', 'info', 'warning', 'danger' or ''\n",
    "                tooltip='Description',\n",
    "                icon='Saved' # (FontAwesome names without the `fa-` prefix)\n",
    "                )\n",
    "            \n",
    "            \n",
    "            saved_ts=[] # new timestamp list\n",
    "            \n",
    "            # function of button 'save timestemp' - it saves new value to the list\n",
    "            def but(sender):\n",
    "                saved_ts.append(w.value)\n",
    "\n",
    "            b.on_click(but)\n",
    "            display(b,interactive(f, x=w))\n",
    "            new_ts.append(saved_ts)\n",
    "            \n",
    "        except Exception as e:\n",
    "            print(\"You finished\")\n",
    "\n",
    "\n",
    "    button.on_click(plus)\n",
    "   \n",
    "\n",
    "    \n",
    "    return display(button),new_ts\n",
    "\n",
    "\n",
    "from oauth2client.service_account import ServiceAccountCredentials\n",
    "import gspread_dataframe as gsp\n",
    "import gspread\n",
    "\n",
    "# 1. SET UP GOOGLE SHEET API\n",
    "# ----------- CHANGE CREADENTIALS LOCATION ------------------------\n",
    "current_dir = '/Users/ksenia.kozlova/Downloads' \n",
    "GSPREAD_KEYS_PATH = current_dir + '/esoteric-pad-326113-4ab241befdd8.json' # this is the directory where your file with key located\n",
    " \n",
    "\n",
    "# Some functions for authorizing (no need to change something here)\n",
    "def authorize_at_gspread(gspread_key_path=GSPREAD_KEYS_PATH):\n",
    "    \"\"\"\n",
    "    Return authorized gspread object\n",
    "    :param gspread_key_path: path to credentials key\n",
    "    :return: gc object\n",
    "    \"\"\"\n",
    "    scope = ['https://spreadsheets.google.com/feeds']\n",
    "    credentials = ServiceAccountCredentials.from_json_keyfile_name(GSPREAD_KEYS_PATH, scope)\n",
    "    gc = gspread.authorize(credentials)\n",
    "    return gc\n",
    "# authorization\n",
    "authorize_at_gspread()\n",
    "\n",
    "\n",
    "# 2. Function for particular sheet connection\n",
    "def get_workbook(workbook_url, gspread_key_path=GSPREAD_KEYS_PATH):\n",
    "    \"\"\" Returns GSPREAD object with opened workbook.\n",
    "    Just open worksheet by referring to .worksheet(name) or use gspread_dataframe to load dataframe.\n",
    "    \"\"\"\n",
    "    gc = authorize_at_gspread(gspread_key_path=gspread_key_path)\n",
    "    return gc.open_by_url(workbook_url)\n",
    "\n",
    "\n",
    "# Damir - to write to a sheet fucntion\n",
    "def tospreadsheet (df, workbook_link, header = 'Title', key = 'new'):\n",
    "    \"\"\"Import dataframe to google spreadsheet by link\n",
    "    Args: \n",
    "        df: imported dataframe\n",
    "        workbook: link to dataframe\n",
    "        header: header of worksheet \n",
    "        key: default 'new'\n",
    "        if you want to use existing worksheet pass 'to existing sheet'\n",
    "\n",
    "    \"\"\"\n",
    "    if key == 'new':\n",
    "        workbook = get_workbook(workbook_link)\n",
    "        wks = workbook.add_worksheet(header, len(df.index),len(df.columns))\n",
    "        gsp.set_with_dataframe(wks, df, row = 1, col =1, include_column_header=True)\n",
    "\n",
    "    elif key == 'existing':\n",
    "        workbook = get_workbook(workbook)\n",
    "        wks = workbook.worksheet(header)\n",
    "        gsp.set_with_dataframe(wks, df, row = 1, col =1, include_column_header=True)\n",
    "        \n",
    "\n",
    "def gsheet(header,new_t):\n",
    "    \n",
    "    new = pd.DataFrame({'events_to_correct':redo})\n",
    "    new2=pd.concat([new, pd.DataFrame(new_t[1])], axis=1).set_index('events_to_correct')\n",
    "\n",
    "    result = events[['time','event_name']].set_index('event_name')\n",
    "\n",
    "    final = pd.concat([result,new2],axis=1)\n",
    "    final['muscle'] = mscl\n",
    "    final['file'] = path[-20:path.find('.vhdr')][path[-20:path.find('.vhdr')].find('/')+1:]\n",
    "    final['final_corrected_movement_time'] = np.where(final[0].isna==False,final[0],final.time )\n",
    "    \n",
    "    link = 'https://docs.google.com/spreadsheets/d/1g0wJeyONCuivtppNc352MBkBIyOgY7FxkQq5XgaBjsg/edit?usp=sharing'\n",
    "\n",
    "    tospreadsheet(final, link, header)\n",
    "\n",
    "    return final\n"
   ]
  },
  {
   "cell_type": "markdown",
   "metadata": {},
   "source": [
    "__Notebook  widgets set up commands and libraries (allow to plot interractive charts - essencial for \"Plot emg\"):__"
   ]
  },
  {
   "cell_type": "code",
   "execution_count": 7,
   "metadata": {},
   "outputs": [
    {
     "name": "stdout",
     "output_type": "stream",
     "text": [
      "[TerminalIPythonApp] WARNING | Subcommand `ipython notebook` is deprecated and will be removed in future versions.\n",
      "[TerminalIPythonApp] WARNING | You likely want to use `jupyter notebook` in the future\n",
      "\u001b[31m[E 21:16:46.998 NotebookApp]\u001b[m Support for specifying --pylab on the command line has been removed.\n",
      "\u001b[31m[E 21:16:46.999 NotebookApp]\u001b[m Please use `%pylab inline` or `%matplotlib inline` in the notebook itself.\n"
     ]
    }
   ],
   "source": [
    "!ipython notebook --pylab=inline\n",
    "#!conda install -c conda-forge/label/cf202003 nodejs\n",
    "#!conda install -y nodejs\n",
    "# pip install ipympl\n",
    "# pip install --upgrade jupyterlab\n",
    "# jupyter labextension install @jupyter-widgets/jupyterlab-manager\n",
    "# jupyter labextension install jupyter-matplotlib\n",
    "# jupyter nbextension enable --py widgetsnbextension"
   ]
  },
  {
   "cell_type": "markdown",
   "metadata": {},
   "source": [
    "## Uppload data"
   ]
  },
  {
   "cell_type": "code",
   "execution_count": 3,
   "metadata": {},
   "outputs": [
    {
     "name": "stderr",
     "output_type": "stream",
     "text": [
      "<ipython-input-3-9c645a8a128b>:5: RuntimeWarning: Online software filter detected. Using software filter settings and ignoring hardware values\n",
      "  raw = mne.io.read_raw_brainvision(path,verbose=False)\n"
     ]
    }
   ],
   "source": [
    "# 1. file path\n",
    "path = '/Users/ksenia.kozlova/Downloads/New trial/PoAn_12/PoAN_APB_3.vhdr'\n",
    "\n",
    "\n",
    "raw = mne.io.read_raw_brainvision(path,verbose=False)"
   ]
  },
  {
   "cell_type": "markdown",
   "metadata": {},
   "source": [
    "__Information about the record__"
   ]
  },
  {
   "cell_type": "code",
   "execution_count": 4,
   "metadata": {},
   "outputs": [
    {
     "name": "stdout",
     "output_type": "stream",
     "text": [
      "<Info | 7 non-empty values\n",
      " bads: []\n",
      " ch_names: rAPB, rADM, rECU, lAPB, lADM, lECU\n",
      " chs: 6 EEG\n",
      " custom_ref_applied: False\n",
      " highpass: 10.0 Hz\n",
      " lowpass: 2500.0 Hz\n",
      " meas_date: 2021-03-05 19:01:25 UTC\n",
      " nchan: 6\n",
      " projs: []\n",
      " sfreq: 5000.0 Hz\n",
      ">\n"
     ]
    }
   ],
   "source": [
    "print(raw.info)"
   ]
  },
  {
   "cell_type": "code",
   "execution_count": 5,
   "metadata": {},
   "outputs": [],
   "source": [
    "# apply notch if needed\n",
    "notch = raw.load_data().copy().notch_filter(freqs=(50),verbose=False) #filter"
   ]
  },
  {
   "cell_type": "markdown",
   "metadata": {},
   "source": [
    "## Plot EMG"
   ]
  },
  {
   "attachments": {
    "image-2.png": {
     "image/png": "[encoded data removed]"
    },
    "image-3.png": {
     "image/png": "[encoded data removed]"
    },
    "image-4.png": {
     "image/png": "[encoded data removed]"
    },
    "image-5.png": {
     "image/png": "[encoded data removed]"
    },
    "image-6.png": {
     "image/png": "[encoded data removed]"
    }
   },
   "cell_type": "markdown",
   "metadata": {},
   "source": [
    "__INSTRUCTION__\n",
    "\n",
    "To move recording by time:\n",
    "- just click on the plot to activate\n",
    "- push arrows \">\" and \"<\" on the keyboard\n",
    "\n",
    "To set up uV:\n",
    "- just click on the plot to activate\n",
    "- press \"+\" and \"-\" in the keyboard\n",
    "\n",
    "To expand plot window:\n",
    "- just click on the plot to activate\n",
    "- pull triangular icon in the down right corner: \n",
    "![image-2.png](attachment:image-2.png)\n",
    "\n",
    "To save plot picture:\n",
    "- press the icon on the left pannel: \n",
    "![image-3.png](attachment:image-3.png)\n",
    "\n",
    "\n",
    "To zoom part of signal:\n",
    "- press the following icon on the left pannel, then select part of interest\n",
    "![image-4.png](attachment:image-4.png)\n",
    "- click the arrow to move chart\n",
    "![image-5.png](attachment:image-5.png)\n",
    "- press the icon to back normal view\n",
    "![image-6.png](attachment:image-6.png)\n"
   ]
  },
  {
   "cell_type": "code",
   "execution_count": 9,
   "metadata": {},
   "outputs": [
    {
     "name": "stdout",
     "output_type": "stream",
     "text": [
      "Setting up band-pass filter from 10 - 2.2e+03 Hz\n",
      "\n",
      "IIR filter parameters\n",
      "---------------------\n",
      "Butterworth bandpass zero-phase (two-pass forward and reverse) non-causal filter:\n",
      "- Filter order 16 (effective, after forward-backward)\n",
      "- Cutoffs at 10.00, 2200.00 Hz: -6.02, -6.02 dB\n",
      "\n"
     ]
    },
    {
     "data": {
      "application/vnd.jupyter.widget-view+json": {
       "model_id": "e10dbb928f7e491da2e874f2263e36df",
       "version_major": 2,
       "version_minor": 0
      },
      "text/plain": [
       "Canvas(toolbar=Toolbar(toolitems=[('Home', 'Reset original view', 'home', 'home'), ('Back', 'Back to previous …"
      ]
     },
     "metadata": {},
     "output_type": "display_data"
    }
   ],
   "source": [
    "#to plot\n",
    "try:\n",
    "    notch.plot(highpass=10, lowpass=2200)\n",
    "except: \n",
    "    raw.plot()"
   ]
  },
  {
   "cell_type": "markdown",
   "metadata": {},
   "source": [
    "## Find movement ALGO"
   ]
  },
  {
   "cell_type": "markdown",
   "metadata": {},
   "source": [
    "__1. Setup AlGO parameters__"
   ]
  },
  {
   "cell_type": "markdown",
   "metadata": {},
   "source": [
    "1.1. Select trail part of data with 3-5 movements "
   ]
  },
  {
   "cell_type": "code",
   "execution_count": 10,
   "metadata": {},
   "outputs": [],
   "source": [
    "# adjast\n",
    "muscle = 'rAPB'\n",
    "start_trial = 8000\n",
    "end_trial = 23000\n",
    "\n",
    "\n",
    "# no changes\n",
    "dat = raw.filter(l_freq=5, h_freq=2200, verbose=False).to_data_frame()[(raw.filter(l_freq=5, h_freq=2200,verbose=False).to_data_frame().time>=start_trial)&(raw.filter(l_freq=5, h_freq=2200,verbose=False).to_data_frame().time<=end_trial)]\n"
   ]
  },
  {
   "cell_type": "markdown",
   "metadata": {},
   "source": [
    "Plot Trial signal"
   ]
  },
  {
   "cell_type": "code",
   "execution_count": 11,
   "metadata": {},
   "outputs": [
    {
     "data": {
      "application/vnd.jupyter.widget-view+json": {
       "model_id": "10e8b128310b4d66b486274a4f6d9d7a",
       "version_major": 2,
       "version_minor": 0
      },
      "text/plain": [
       "Canvas(toolbar=Toolbar(toolitems=[('Home', 'Reset original view', 'home', 'home'), ('Back', 'Back to previous …"
      ]
     },
     "metadata": {},
     "output_type": "display_data"
    },
    {
     "data": {
      "text/plain": [
       "[<matplotlib.lines.Line2D at 0x7fcb88f48c10>]"
      ]
     },
     "execution_count": 11,
     "metadata": {},
     "output_type": "execute_result"
    }
   ],
   "source": [
    "# no change\n",
    "fig, (ax0) = plt.subplots(nrows=1)\n",
    "ax0.plot(dat.time, dat[str(muscle)])"
   ]
  },
  {
   "cell_type": "markdown",
   "metadata": {},
   "source": [
    "2. Adjast. parameters (active msck, thrs, thrs2)"
   ]
  },
  {
   "cell_type": "code",
   "execution_count": 12,
   "metadata": {},
   "outputs": [],
   "source": [
    "# ADJUST\n",
    "\n",
    "# 1.muscle\n",
    "mscl = 'rAPB' #rapb\n",
    "\n",
    "# 2. Thresholds, (absolut value) uV activity threshold which concidered as a movement \n",
    "# thrs - general, thrs2 is more accurate in subwindow \n",
    "thrs = 27 \n",
    "thrs2 = 10\n",
    "\n",
    "\n",
    "# 3. time window to analyse (ms)\n",
    "# 650 is optimal \n",
    "window = 650 \n",
    "\n",
    "# 4. percentage of picks which should be higher than thrs in the window \n",
    "# 0.05 is optimal\n",
    "positive = 0.05 \n"
   ]
  },
  {
   "cell_type": "markdown",
   "metadata": {},
   "source": [
    "3. Try algo settings on trial data at first."
   ]
  },
  {
   "cell_type": "code",
   "execution_count": 13,
   "metadata": {},
   "outputs": [],
   "source": [
    "# no changes\n",
    "# start and end in ms\n",
    "trial_time = [start_trial, end_trial]\n",
    "# Run algo on trial data\n",
    "trial_movement_time, trial_data = find_movement(raw, trial_time, 'rAPB', window, thrs, thrs2, positive)\n"
   ]
  },
  {
   "cell_type": "code",
   "execution_count": 14,
   "metadata": {},
   "outputs": [
    {
     "data": {
      "application/vnd.jupyter.widget-view+json": {
       "model_id": "06273741474d4940b7fd3f1aec05bf98",
       "version_major": 2,
       "version_minor": 0
      },
      "text/plain": [
       "Canvas(toolbar=Toolbar(toolitems=[('Home', 'Reset original view', 'home', 'home'), ('Back', 'Back to previous …"
      ]
     },
     "metadata": {},
     "output_type": "display_data"
    }
   ],
   "source": [
    "# plot trial\n",
    "plot_signal(trial_data, trial_movement_time)"
   ]
  },
  {
   "cell_type": "markdown",
   "metadata": {},
   "source": [
    "__If the Movement start is not acurate enough, Adjast thrs,thrs2 and try again #2__"
   ]
  },
  {
   "cell_type": "markdown",
   "metadata": {},
   "source": [
    "4. Apply to the whole recording (here time = [0] which means \"start from 0 second\""
   ]
  },
  {
   "cell_type": "code",
   "execution_count": 15,
   "metadata": {},
   "outputs": [],
   "source": [
    "movement_time, data = find_movement(raw, [0], 'rAPB', window, thrs, thrs2, positive)"
   ]
  },
  {
   "cell_type": "code",
   "execution_count": 16,
   "metadata": {},
   "outputs": [
    {
     "data": {
      "application/vnd.jupyter.widget-view+json": {
       "model_id": "5fcf52a8a4114984824004e05feddbb9",
       "version_major": 2,
       "version_minor": 0
      },
      "text/plain": [
       "Canvas(toolbar=Toolbar(toolitems=[('Home', 'Reset original view', 'home', 'home'), ('Back', 'Back to previous …"
      ]
     },
     "metadata": {},
     "output_type": "display_data"
    }
   ],
   "source": [
    "# plot Algo Markup way1\n",
    "plot_signal(data, movement_time)"
   ]
  },
  {
   "cell_type": "markdown",
   "metadata": {},
   "source": [
    "## Manual adjastment of Algo Movement Markup"
   ]
  },
  {
   "cell_type": "code",
   "execution_count": 17,
   "metadata": {},
   "outputs": [
    {
     "name": "stdout",
     "output_type": "stream",
     "text": [
      "Setting up band-pass filter from 10 - 2.2e+03 Hz\n",
      "\n",
      "IIR filter parameters\n",
      "---------------------\n",
      "Butterworth bandpass zero-phase (two-pass forward and reverse) non-causal filter:\n",
      "- Filter order 16 (effective, after forward-backward)\n",
      "- Cutoffs at 10.00, 2200.00 Hz: -6.02, -6.02 dB\n",
      "\n"
     ]
    },
    {
     "data": {
      "application/vnd.jupyter.widget-view+json": {
       "model_id": "5e2ce1cc80a0463a8f98801f37a4f826",
       "version_major": 2,
       "version_minor": 0
      },
      "text/plain": [
       "Canvas(toolbar=Toolbar(toolitems=[('Home', 'Reset original view', 'home', 'home'), ('Back', 'Back to previous …"
      ]
     },
     "metadata": {},
     "output_type": "display_data"
    }
   ],
   "source": [
    "# plot Algo Markup way2\n",
    "plot_emg_events(raw, movement_time)"
   ]
  },
  {
   "cell_type": "markdown",
   "metadata": {},
   "source": [
    "__1. save number of events to redo__"
   ]
  },
  {
   "cell_type": "code",
   "execution_count": 18,
   "metadata": {},
   "outputs": [],
   "source": [
    "# change\n",
    "redo = [13,21,27,29,37]"
   ]
  },
  {
   "cell_type": "code",
   "execution_count": 19,
   "metadata": {},
   "outputs": [],
   "source": [
    "# no change\n",
    "events = create_events(movement_time)"
   ]
  },
  {
   "cell_type": "code",
   "execution_count": 20,
   "metadata": {},
   "outputs": [
    {
     "data": {
      "text/plain": [
       "0     38137.0\n",
       "1     61852.0\n",
       "2     80283.0\n",
       "3     86316.0\n",
       "4    109520.0\n",
       "Name: time, dtype: float64"
      ]
     },
     "execution_count": 20,
     "metadata": {},
     "output_type": "execute_result"
    }
   ],
   "source": [
    "events[events.event_name.isin(redo)].reset_index().time"
   ]
  },
  {
   "cell_type": "markdown",
   "metadata": {},
   "source": [
    "__2. Manually adjast movement markup__"
   ]
  },
  {
   "cell_type": "code",
   "execution_count": 21,
   "metadata": {
    "scrolled": false
   },
   "outputs": [
    {
     "data": {
      "application/vnd.jupyter.widget-view+json": {
       "model_id": "114830ba370a4318b991fd09935d4c4a",
       "version_major": 2,
       "version_minor": 0
      },
      "text/plain": [
       "Button(description='Next event', icon='Saved', style=ButtonStyle(), tooltip='Description')"
      ]
     },
     "metadata": {},
     "output_type": "display_data"
    },
    {
     "data": {
      "application/vnd.jupyter.widget-view+json": {
       "model_id": "1364ce0387724383981a1859457ff4f6",
       "version_major": 2,
       "version_minor": 0
      },
      "text/plain": [
       "Button(description='Save timestamp', icon='Saved', style=ButtonStyle(), tooltip='Description')"
      ]
     },
     "metadata": {},
     "output_type": "display_data"
    },
    {
     "data": {
      "application/vnd.jupyter.widget-view+json": {
       "model_id": "0198d62324d1431d9afae74038f4cdde",
       "version_major": 2,
       "version_minor": 0
      },
      "text/plain": [
       "interactive(children=(FloatText(value=38137.0, description='New Value uV:', step=5.0), Output()), _dom_classes…"
      ]
     },
     "metadata": {},
     "output_type": "display_data"
    },
    {
     "data": {
      "application/vnd.jupyter.widget-view+json": {
       "model_id": "404697ccfe0c48efb76d79afc6514ce4",
       "version_major": 2,
       "version_minor": 0
      },
      "text/plain": [
       "Button(description='Save timestamp', icon='Saved', style=ButtonStyle(), tooltip='Description')"
      ]
     },
     "metadata": {},
     "output_type": "display_data"
    },
    {
     "data": {
      "application/vnd.jupyter.widget-view+json": {
       "model_id": "fbf22d3ff7e24412bf4f300c9f27de09",
       "version_major": 2,
       "version_minor": 0
      },
      "text/plain": [
       "interactive(children=(FloatText(value=61852.0, description='New Value uV:', step=5.0), Output()), _dom_classes…"
      ]
     },
     "metadata": {},
     "output_type": "display_data"
    },
    {
     "data": {
      "application/vnd.jupyter.widget-view+json": {
       "model_id": "10123b17564d45559b54e31b5c0df3a5",
       "version_major": 2,
       "version_minor": 0
      },
      "text/plain": [
       "Button(description='Save timestamp', icon='Saved', style=ButtonStyle(), tooltip='Description')"
      ]
     },
     "metadata": {},
     "output_type": "display_data"
    },
    {
     "data": {
      "application/vnd.jupyter.widget-view+json": {
       "model_id": "1f3a97b3abee434881be7063c6b53601",
       "version_major": 2,
       "version_minor": 0
      },
      "text/plain": [
       "interactive(children=(FloatText(value=80283.0, description='New Value uV:', step=5.0), Output()), _dom_classes…"
      ]
     },
     "metadata": {},
     "output_type": "display_data"
    },
    {
     "data": {
      "application/vnd.jupyter.widget-view+json": {
       "model_id": "b5184d8b7da14b3d847890897d8b057b",
       "version_major": 2,
       "version_minor": 0
      },
      "text/plain": [
       "Button(description='Save timestamp', icon='Saved', style=ButtonStyle(), tooltip='Description')"
      ]
     },
     "metadata": {},
     "output_type": "display_data"
    },
    {
     "data": {
      "application/vnd.jupyter.widget-view+json": {
       "model_id": "c5b413a571634c8bbd608095c2d52f24",
       "version_major": 2,
       "version_minor": 0
      },
      "text/plain": [
       "interactive(children=(FloatText(value=86316.0, description='New Value uV:', step=5.0), Output()), _dom_classes…"
      ]
     },
     "metadata": {},
     "output_type": "display_data"
    }
   ],
   "source": [
    "new_timings = adjust_movements(events[events.event_name.isin(redo)].reset_index().time)"
   ]
  },
  {
   "cell_type": "markdown",
   "metadata": {},
   "source": [
    "__3. Save Movement times to Google sheet together with adjasted__"
   ]
  },
  {
   "cell_type": "code",
   "execution_count": 22,
   "metadata": {},
   "outputs": [],
   "source": [
    "# change\n",
    "sheet_name = 'trial_demo'\n",
    "\n",
    "corrected_time = gsheet(sheet_name, new_timings)"
   ]
  },
  {
   "cell_type": "markdown",
   "metadata": {},
   "source": [
    "__See movement times in the file:__\n",
    "\n",
    "https://docs.google.com/spreadsheets/d/1g0wJeyONCuivtppNc352MBkBIyOgY7FxkQq5XgaBjsg/edit?usp=sharing"
   ]
  },
  {
   "cell_type": "code",
   "execution_count": 21,
   "metadata": {},
   "outputs": [
    {
     "data": {
      "text/html": [
       "<div>\n",
       "<style scoped>\n",
       "    .dataframe tbody tr th:only-of-type {\n",
       "        vertical-align: middle;\n",
       "    }\n",
       "\n",
       "    .dataframe tbody tr th {\n",
       "        vertical-align: top;\n",
       "    }\n",
       "\n",
       "    .dataframe thead th {\n",
       "        text-align: right;\n",
       "    }\n",
       "</style>\n",
       "<table border=\"1\" class=\"dataframe\">\n",
       "  <thead>\n",
       "    <tr style=\"text-align: right;\">\n",
       "      <th></th>\n",
       "      <th>time</th>\n",
       "      <th>0</th>\n",
       "      <th>1</th>\n",
       "      <th>muscle</th>\n",
       "      <th>file</th>\n",
       "      <th>final_corrected_movement_time</th>\n",
       "    </tr>\n",
       "  </thead>\n",
       "  <tbody>\n",
       "    <tr>\n",
       "      <th>1</th>\n",
       "      <td>2671.0</td>\n",
       "      <td>NaN</td>\n",
       "      <td>NaN</td>\n",
       "      <td>rAPB</td>\n",
       "      <td>PoAN_APB_3</td>\n",
       "      <td>2671.0</td>\n",
       "    </tr>\n",
       "    <tr>\n",
       "      <th>2</th>\n",
       "      <td>4437.0</td>\n",
       "      <td>NaN</td>\n",
       "      <td>NaN</td>\n",
       "      <td>rAPB</td>\n",
       "      <td>PoAN_APB_3</td>\n",
       "      <td>4437.0</td>\n",
       "    </tr>\n",
       "    <tr>\n",
       "      <th>3</th>\n",
       "      <td>8422.0</td>\n",
       "      <td>NaN</td>\n",
       "      <td>NaN</td>\n",
       "      <td>rAPB</td>\n",
       "      <td>PoAN_APB_3</td>\n",
       "      <td>8422.0</td>\n",
       "    </tr>\n",
       "    <tr>\n",
       "      <th>4</th>\n",
       "      <td>10515.0</td>\n",
       "      <td>NaN</td>\n",
       "      <td>NaN</td>\n",
       "      <td>rAPB</td>\n",
       "      <td>PoAN_APB_3</td>\n",
       "      <td>10515.0</td>\n",
       "    </tr>\n",
       "    <tr>\n",
       "      <th>5</th>\n",
       "      <td>14604.0</td>\n",
       "      <td>NaN</td>\n",
       "      <td>NaN</td>\n",
       "      <td>rAPB</td>\n",
       "      <td>PoAN_APB_3</td>\n",
       "      <td>14604.0</td>\n",
       "    </tr>\n",
       "    <tr>\n",
       "      <th>6</th>\n",
       "      <td>16615.0</td>\n",
       "      <td>NaN</td>\n",
       "      <td>NaN</td>\n",
       "      <td>rAPB</td>\n",
       "      <td>PoAN_APB_3</td>\n",
       "      <td>16615.0</td>\n",
       "    </tr>\n",
       "    <tr>\n",
       "      <th>7</th>\n",
       "      <td>20537.0</td>\n",
       "      <td>NaN</td>\n",
       "      <td>NaN</td>\n",
       "      <td>rAPB</td>\n",
       "      <td>PoAN_APB_3</td>\n",
       "      <td>20537.0</td>\n",
       "    </tr>\n",
       "    <tr>\n",
       "      <th>8</th>\n",
       "      <td>22540.0</td>\n",
       "      <td>NaN</td>\n",
       "      <td>NaN</td>\n",
       "      <td>rAPB</td>\n",
       "      <td>PoAN_APB_3</td>\n",
       "      <td>22540.0</td>\n",
       "    </tr>\n",
       "    <tr>\n",
       "      <th>9</th>\n",
       "      <td>26290.0</td>\n",
       "      <td>NaN</td>\n",
       "      <td>NaN</td>\n",
       "      <td>rAPB</td>\n",
       "      <td>PoAN_APB_3</td>\n",
       "      <td>26290.0</td>\n",
       "    </tr>\n",
       "    <tr>\n",
       "      <th>10</th>\n",
       "      <td>28453.0</td>\n",
       "      <td>NaN</td>\n",
       "      <td>NaN</td>\n",
       "      <td>rAPB</td>\n",
       "      <td>PoAN_APB_3</td>\n",
       "      <td>28453.0</td>\n",
       "    </tr>\n",
       "    <tr>\n",
       "      <th>11</th>\n",
       "      <td>31768.0</td>\n",
       "      <td>NaN</td>\n",
       "      <td>NaN</td>\n",
       "      <td>rAPB</td>\n",
       "      <td>PoAN_APB_3</td>\n",
       "      <td>31768.0</td>\n",
       "    </tr>\n",
       "    <tr>\n",
       "      <th>12</th>\n",
       "      <td>33765.0</td>\n",
       "      <td>NaN</td>\n",
       "      <td>NaN</td>\n",
       "      <td>rAPB</td>\n",
       "      <td>PoAN_APB_3</td>\n",
       "      <td>33765.0</td>\n",
       "    </tr>\n",
       "    <tr>\n",
       "      <th>13</th>\n",
       "      <td>38137.0</td>\n",
       "      <td>38205.0</td>\n",
       "      <td>NaN</td>\n",
       "      <td>rAPB</td>\n",
       "      <td>PoAN_APB_3</td>\n",
       "      <td>38137.0</td>\n",
       "    </tr>\n",
       "    <tr>\n",
       "      <th>14</th>\n",
       "      <td>40015.0</td>\n",
       "      <td>NaN</td>\n",
       "      <td>NaN</td>\n",
       "      <td>rAPB</td>\n",
       "      <td>PoAN_APB_3</td>\n",
       "      <td>40015.0</td>\n",
       "    </tr>\n",
       "    <tr>\n",
       "      <th>15</th>\n",
       "      <td>43648.0</td>\n",
       "      <td>NaN</td>\n",
       "      <td>NaN</td>\n",
       "      <td>rAPB</td>\n",
       "      <td>PoAN_APB_3</td>\n",
       "      <td>43648.0</td>\n",
       "    </tr>\n",
       "    <tr>\n",
       "      <th>16</th>\n",
       "      <td>45599.0</td>\n",
       "      <td>NaN</td>\n",
       "      <td>NaN</td>\n",
       "      <td>rAPB</td>\n",
       "      <td>PoAN_APB_3</td>\n",
       "      <td>45599.0</td>\n",
       "    </tr>\n",
       "    <tr>\n",
       "      <th>17</th>\n",
       "      <td>49511.0</td>\n",
       "      <td>NaN</td>\n",
       "      <td>NaN</td>\n",
       "      <td>rAPB</td>\n",
       "      <td>PoAN_APB_3</td>\n",
       "      <td>49511.0</td>\n",
       "    </tr>\n",
       "    <tr>\n",
       "      <th>18</th>\n",
       "      <td>51764.0</td>\n",
       "      <td>NaN</td>\n",
       "      <td>NaN</td>\n",
       "      <td>rAPB</td>\n",
       "      <td>PoAN_APB_3</td>\n",
       "      <td>51764.0</td>\n",
       "    </tr>\n",
       "    <tr>\n",
       "      <th>19</th>\n",
       "      <td>56086.0</td>\n",
       "      <td>NaN</td>\n",
       "      <td>NaN</td>\n",
       "      <td>rAPB</td>\n",
       "      <td>PoAN_APB_3</td>\n",
       "      <td>56086.0</td>\n",
       "    </tr>\n",
       "    <tr>\n",
       "      <th>20</th>\n",
       "      <td>58153.0</td>\n",
       "      <td>NaN</td>\n",
       "      <td>NaN</td>\n",
       "      <td>rAPB</td>\n",
       "      <td>PoAN_APB_3</td>\n",
       "      <td>58153.0</td>\n",
       "    </tr>\n",
       "    <tr>\n",
       "      <th>21</th>\n",
       "      <td>61852.0</td>\n",
       "      <td>61889.0</td>\n",
       "      <td>61889.0</td>\n",
       "      <td>rAPB</td>\n",
       "      <td>PoAN_APB_3</td>\n",
       "      <td>61852.0</td>\n",
       "    </tr>\n",
       "    <tr>\n",
       "      <th>22</th>\n",
       "      <td>63783.0</td>\n",
       "      <td>NaN</td>\n",
       "      <td>NaN</td>\n",
       "      <td>rAPB</td>\n",
       "      <td>PoAN_APB_3</td>\n",
       "      <td>63783.0</td>\n",
       "    </tr>\n",
       "    <tr>\n",
       "      <th>23</th>\n",
       "      <td>67957.0</td>\n",
       "      <td>NaN</td>\n",
       "      <td>NaN</td>\n",
       "      <td>rAPB</td>\n",
       "      <td>PoAN_APB_3</td>\n",
       "      <td>67957.0</td>\n",
       "    </tr>\n",
       "    <tr>\n",
       "      <th>24</th>\n",
       "      <td>70059.0</td>\n",
       "      <td>NaN</td>\n",
       "      <td>NaN</td>\n",
       "      <td>rAPB</td>\n",
       "      <td>PoAN_APB_3</td>\n",
       "      <td>70059.0</td>\n",
       "    </tr>\n",
       "    <tr>\n",
       "      <th>25</th>\n",
       "      <td>74346.0</td>\n",
       "      <td>NaN</td>\n",
       "      <td>NaN</td>\n",
       "      <td>rAPB</td>\n",
       "      <td>PoAN_APB_3</td>\n",
       "      <td>74346.0</td>\n",
       "    </tr>\n",
       "    <tr>\n",
       "      <th>26</th>\n",
       "      <td>76264.0</td>\n",
       "      <td>NaN</td>\n",
       "      <td>NaN</td>\n",
       "      <td>rAPB</td>\n",
       "      <td>PoAN_APB_3</td>\n",
       "      <td>76264.0</td>\n",
       "    </tr>\n",
       "    <tr>\n",
       "      <th>27</th>\n",
       "      <td>80283.0</td>\n",
       "      <td>80403.0</td>\n",
       "      <td>NaN</td>\n",
       "      <td>rAPB</td>\n",
       "      <td>PoAN_APB_3</td>\n",
       "      <td>80283.0</td>\n",
       "    </tr>\n",
       "    <tr>\n",
       "      <th>28</th>\n",
       "      <td>82447.0</td>\n",
       "      <td>NaN</td>\n",
       "      <td>NaN</td>\n",
       "      <td>rAPB</td>\n",
       "      <td>PoAN_APB_3</td>\n",
       "      <td>82447.0</td>\n",
       "    </tr>\n",
       "    <tr>\n",
       "      <th>29</th>\n",
       "      <td>86316.0</td>\n",
       "      <td>86692.0</td>\n",
       "      <td>NaN</td>\n",
       "      <td>rAPB</td>\n",
       "      <td>PoAN_APB_3</td>\n",
       "      <td>86316.0</td>\n",
       "    </tr>\n",
       "    <tr>\n",
       "      <th>30</th>\n",
       "      <td>88509.0</td>\n",
       "      <td>NaN</td>\n",
       "      <td>NaN</td>\n",
       "      <td>rAPB</td>\n",
       "      <td>PoAN_APB_3</td>\n",
       "      <td>88509.0</td>\n",
       "    </tr>\n",
       "    <tr>\n",
       "      <th>31</th>\n",
       "      <td>91914.0</td>\n",
       "      <td>NaN</td>\n",
       "      <td>NaN</td>\n",
       "      <td>rAPB</td>\n",
       "      <td>PoAN_APB_3</td>\n",
       "      <td>91914.0</td>\n",
       "    </tr>\n",
       "    <tr>\n",
       "      <th>32</th>\n",
       "      <td>94070.0</td>\n",
       "      <td>NaN</td>\n",
       "      <td>NaN</td>\n",
       "      <td>rAPB</td>\n",
       "      <td>PoAN_APB_3</td>\n",
       "      <td>94070.0</td>\n",
       "    </tr>\n",
       "    <tr>\n",
       "      <th>33</th>\n",
       "      <td>98440.0</td>\n",
       "      <td>NaN</td>\n",
       "      <td>NaN</td>\n",
       "      <td>rAPB</td>\n",
       "      <td>PoAN_APB_3</td>\n",
       "      <td>98440.0</td>\n",
       "    </tr>\n",
       "    <tr>\n",
       "      <th>34</th>\n",
       "      <td>100532.0</td>\n",
       "      <td>NaN</td>\n",
       "      <td>NaN</td>\n",
       "      <td>rAPB</td>\n",
       "      <td>PoAN_APB_3</td>\n",
       "      <td>100532.0</td>\n",
       "    </tr>\n",
       "    <tr>\n",
       "      <th>35</th>\n",
       "      <td>104585.0</td>\n",
       "      <td>NaN</td>\n",
       "      <td>NaN</td>\n",
       "      <td>rAPB</td>\n",
       "      <td>PoAN_APB_3</td>\n",
       "      <td>104585.0</td>\n",
       "    </tr>\n",
       "    <tr>\n",
       "      <th>36</th>\n",
       "      <td>106590.0</td>\n",
       "      <td>NaN</td>\n",
       "      <td>NaN</td>\n",
       "      <td>rAPB</td>\n",
       "      <td>PoAN_APB_3</td>\n",
       "      <td>106590.0</td>\n",
       "    </tr>\n",
       "    <tr>\n",
       "      <th>37</th>\n",
       "      <td>109520.0</td>\n",
       "      <td>109956.0</td>\n",
       "      <td>NaN</td>\n",
       "      <td>rAPB</td>\n",
       "      <td>PoAN_APB_3</td>\n",
       "      <td>109520.0</td>\n",
       "    </tr>\n",
       "    <tr>\n",
       "      <th>38</th>\n",
       "      <td>112006.0</td>\n",
       "      <td>NaN</td>\n",
       "      <td>NaN</td>\n",
       "      <td>rAPB</td>\n",
       "      <td>PoAN_APB_3</td>\n",
       "      <td>112006.0</td>\n",
       "    </tr>\n",
       "  </tbody>\n",
       "</table>\n",
       "</div>"
      ],
      "text/plain": [
       "        time         0        1 muscle        file  \\\n",
       "1     2671.0       NaN      NaN   rAPB  PoAN_APB_3   \n",
       "2     4437.0       NaN      NaN   rAPB  PoAN_APB_3   \n",
       "3     8422.0       NaN      NaN   rAPB  PoAN_APB_3   \n",
       "4    10515.0       NaN      NaN   rAPB  PoAN_APB_3   \n",
       "5    14604.0       NaN      NaN   rAPB  PoAN_APB_3   \n",
       "6    16615.0       NaN      NaN   rAPB  PoAN_APB_3   \n",
       "7    20537.0       NaN      NaN   rAPB  PoAN_APB_3   \n",
       "8    22540.0       NaN      NaN   rAPB  PoAN_APB_3   \n",
       "9    26290.0       NaN      NaN   rAPB  PoAN_APB_3   \n",
       "10   28453.0       NaN      NaN   rAPB  PoAN_APB_3   \n",
       "11   31768.0       NaN      NaN   rAPB  PoAN_APB_3   \n",
       "12   33765.0       NaN      NaN   rAPB  PoAN_APB_3   \n",
       "13   38137.0   38205.0      NaN   rAPB  PoAN_APB_3   \n",
       "14   40015.0       NaN      NaN   rAPB  PoAN_APB_3   \n",
       "15   43648.0       NaN      NaN   rAPB  PoAN_APB_3   \n",
       "16   45599.0       NaN      NaN   rAPB  PoAN_APB_3   \n",
       "17   49511.0       NaN      NaN   rAPB  PoAN_APB_3   \n",
       "18   51764.0       NaN      NaN   rAPB  PoAN_APB_3   \n",
       "19   56086.0       NaN      NaN   rAPB  PoAN_APB_3   \n",
       "20   58153.0       NaN      NaN   rAPB  PoAN_APB_3   \n",
       "21   61852.0   61889.0  61889.0   rAPB  PoAN_APB_3   \n",
       "22   63783.0       NaN      NaN   rAPB  PoAN_APB_3   \n",
       "23   67957.0       NaN      NaN   rAPB  PoAN_APB_3   \n",
       "24   70059.0       NaN      NaN   rAPB  PoAN_APB_3   \n",
       "25   74346.0       NaN      NaN   rAPB  PoAN_APB_3   \n",
       "26   76264.0       NaN      NaN   rAPB  PoAN_APB_3   \n",
       "27   80283.0   80403.0      NaN   rAPB  PoAN_APB_3   \n",
       "28   82447.0       NaN      NaN   rAPB  PoAN_APB_3   \n",
       "29   86316.0   86692.0      NaN   rAPB  PoAN_APB_3   \n",
       "30   88509.0       NaN      NaN   rAPB  PoAN_APB_3   \n",
       "31   91914.0       NaN      NaN   rAPB  PoAN_APB_3   \n",
       "32   94070.0       NaN      NaN   rAPB  PoAN_APB_3   \n",
       "33   98440.0       NaN      NaN   rAPB  PoAN_APB_3   \n",
       "34  100532.0       NaN      NaN   rAPB  PoAN_APB_3   \n",
       "35  104585.0       NaN      NaN   rAPB  PoAN_APB_3   \n",
       "36  106590.0       NaN      NaN   rAPB  PoAN_APB_3   \n",
       "37  109520.0  109956.0      NaN   rAPB  PoAN_APB_3   \n",
       "38  112006.0       NaN      NaN   rAPB  PoAN_APB_3   \n",
       "\n",
       "    final_corrected_movement_time  \n",
       "1                          2671.0  \n",
       "2                          4437.0  \n",
       "3                          8422.0  \n",
       "4                         10515.0  \n",
       "5                         14604.0  \n",
       "6                         16615.0  \n",
       "7                         20537.0  \n",
       "8                         22540.0  \n",
       "9                         26290.0  \n",
       "10                        28453.0  \n",
       "11                        31768.0  \n",
       "12                        33765.0  \n",
       "13                        38137.0  \n",
       "14                        40015.0  \n",
       "15                        43648.0  \n",
       "16                        45599.0  \n",
       "17                        49511.0  \n",
       "18                        51764.0  \n",
       "19                        56086.0  \n",
       "20                        58153.0  \n",
       "21                        61852.0  \n",
       "22                        63783.0  \n",
       "23                        67957.0  \n",
       "24                        70059.0  \n",
       "25                        74346.0  \n",
       "26                        76264.0  \n",
       "27                        80283.0  \n",
       "28                        82447.0  \n",
       "29                        86316.0  \n",
       "30                        88509.0  \n",
       "31                        91914.0  \n",
       "32                        94070.0  \n",
       "33                        98440.0  \n",
       "34                       100532.0  \n",
       "35                       104585.0  \n",
       "36                       106590.0  \n",
       "37                       109520.0  \n",
       "38                       112006.0  "
      ]
     },
     "execution_count": 21,
     "metadata": {},
     "output_type": "execute_result"
    }
   ],
   "source": [
    "corrected_time"
   ]
  },
  {
   "cell_type": "markdown",
   "metadata": {},
   "source": [
    "## Plot signal with final movement start Markups"
   ]
  },
  {
   "cell_type": "code",
   "execution_count": 23,
   "metadata": {},
   "outputs": [
    {
     "name": "stdout",
     "output_type": "stream",
     "text": [
      "Setting up band-pass filter from 10 - 2.2e+03 Hz\n",
      "\n",
      "IIR filter parameters\n",
      "---------------------\n",
      "Butterworth bandpass zero-phase (two-pass forward and reverse) non-causal filter:\n",
      "- Filter order 16 (effective, after forward-backward)\n",
      "- Cutoffs at 10.00, 2200.00 Hz: -6.02, -6.02 dB\n",
      "\n"
     ]
    },
    {
     "data": {
      "application/vnd.jupyter.widget-view+json": {
       "model_id": "28e2fc9610bc4c188dccb0778c252101",
       "version_major": 2,
       "version_minor": 0
      },
      "text/plain": [
       "Canvas(toolbar=Toolbar(toolitems=[('Home', 'Reset original view', 'home', 'home'), ('Back', 'Back to previous …"
      ]
     },
     "metadata": {},
     "output_type": "display_data"
    }
   ],
   "source": [
    "plot_emg_events(raw, corrected_time.final_corrected_movement_time)"
   ]
  },
  {
   "cell_type": "markdown",
   "metadata": {},
   "source": [
    "# Movement time found - the end"
   ]
  }
 ],
 "metadata": {
  "kernelspec": {
   "display_name": "Python 3",
   "language": "python",
   "name": "python3"
  },
  "language_info": {
   "codemirror_mode": {
    "name": "ipython",
    "version": 3
   },
   "file_extension": ".py",
   "mimetype": "text/x-python",
   "name": "python",
   "nbconvert_exporter": "python",
   "pygments_lexer": "ipython3",
   "version": "3.8.5"
  }
 },
 "nbformat": 4,
 "nbformat_minor": 4
}
