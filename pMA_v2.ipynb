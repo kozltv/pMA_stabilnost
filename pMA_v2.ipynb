{
  "nbformat": 4,
  "nbformat_minor": 0,
  "metadata": {
    "kernelspec": {
      "display_name": "Python 3",
      "language": "python",
      "name": "python3"
    },
    "language_info": {
      "codemirror_mode": {
        "name": "ipython",
        "version": 3
      },
      "file_extension": ".py",
      "mimetype": "text/x-python",
      "name": "python",
      "nbconvert_exporter": "python",
      "pygments_lexer": "ipython3",
      "version": "3.8.5"
    },
    "colab": {
      "name": "pMA_v2.ipynb",
      "provenance": [],
      "collapsed_sections": [],
      "include_colab_link": true
    },
    "widgets": {
      "application/vnd.jupyter.widget-state+json": {
        "107fb4c9afbd45e1847375b66412e925": {
          "model_module": "jupyter-matplotlib",
          "model_name": "MPLCanvasModel",
          "model_module_version": "^0.10.0",
          "state": {
            "_view_name": "MPLCanvasView",
            "_view_module": "jupyter-matplotlib",
            "_figure_label": "/content/PoAn/PoAn_APB_3.eeg",
            "_view_count": null,
            "_cursor": "default",
            "capture_scroll": false,
            "layout": "IPY_MODEL_cf52a158956f4f548d532f7f0262840b",
            "_model_module": "jupyter-matplotlib",
            "footer_visible": true,
            "_image_mode": "full",
            "_dom_classes": [],
            "resizable": true,
            "_model_name": "MPLCanvasModel",
            "_height": 0,
            "header_visible": true,
            "_model_module_version": "^0.10.0",
            "_rubberband_x": 0,
            "_rubberband_y": 0,
            "toolbar": "IPY_MODEL_d97ea6be36604199812f4d2dc6bb27f6",
            "toolbar_visible": true,
            "_rubberband_width": 0,
            "_width": 0,
            "_message": "",
            "_rubberband_height": 0,
            "_view_module_version": "^0.10.0",
            "toolbar_position": "left"
          }
        }
      }
    }
  },
  "cells": [
    {
      "cell_type": "markdown",
      "metadata": {
        "id": "view-in-github",
        "colab_type": "text"
      },
      "source": [
        "<a href=\"https://colab.research.google.com/github/kozltv/pMA_stabilnost/blob/main/pMA_v2.ipynb\" target=\"_parent\"><img src=\"https://colab.research.google.com/assets/colab-badge.svg\" alt=\"Open In Colab\"/></a>"
      ]
    },
    {
      "cell_type": "code",
      "metadata": {
        "id": "0eYwgaKTgEPQ"
      },
      "source": [
        "\n",
        "import numpy as np\n",
        "#!pip install mne\n",
        "import mne\n",
        "import pandas as pd\n",
        "import matplotlib.pyplot as plt\n",
        "\n",
        "#!pip install ipympl\n",
        "%matplotlib widget #notebook\n",
        "%matplotlib inline"
      ],
      "execution_count": null,
      "outputs": []
    },
    {
      "cell_type": "code",
      "metadata": {
        "id": "eZv-dvfcgEPY"
      },
      "source": [
        "#!ipython notebook --pylab=inline\n",
        "#!conda install -c conda-forge/label/cf202003 nodejs\n",
        "#!conda install -y nodejs\n",
        "#!pip install ipympl\n",
        "#!pip install --upgrade jupyterlab\n",
        "#!jupyter labextension install @jupyter-widgets/jupyterlab-manager\n",
        "#!jupyter labextension install jupyter-matplotlib\n",
        "!jupyter nbextension enable --py widgetsnbextension"
      ],
      "execution_count": null,
      "outputs": []
    },
    {
      "cell_type": "markdown",
      "metadata": {
        "id": "Y4ZE3YixgEPR"
      },
      "source": [
        "## functions"
      ]
    },
    {
      "cell_type": "code",
      "metadata": {
        "colab": {
          "base_uri": "https://localhost:8080/"
        },
        "id": "qVFF-Dcmxx4l",
        "outputId": "6494f2f7-4535-4408-e1e5-f6d349c0c598"
      },
      "source": [
        "%matplotlib qt"
      ],
      "execution_count": null,
      "outputs": [
        {
          "output_type": "stream",
          "name": "stdout",
          "text": [
            "Warning: Cannot change to a different GUI toolkit: qt. Using widget instead.\n"
          ]
        }
      ]
    },
    {
      "cell_type": "code",
      "metadata": {
        "colab": {
          "base_uri": "https://localhost:8080/"
        },
        "id": "Rm4qGfc1y8R9",
        "outputId": "b4fcf14a-0857-40aa-e24b-38fff83c7426"
      },
      "source": [
        "!~/.ipython/"
      ],
      "execution_count": null,
      "outputs": [
        {
          "output_type": "stream",
          "name": "stdout",
          "text": [
            "/bin/bash: /root/.ipython/: Is a directory\n"
          ]
        }
      ]
    },
    {
      "cell_type": "markdown",
      "metadata": {
        "id": "SZRSk7Y-iEw3"
      },
      "source": [
        "###1.1. Find movement \n",
        "Функция должна фильтроваль только указанную мышцу. иначе перерасход ресурсов.\n"
      ]
    },
    {
      "cell_type": "code",
      "metadata": {
        "id": "rQolN0BWh-jS"
      },
      "source": [
        "def find_movement(raw, time, mscl, window, thrs, thrs2, positive):\n",
        "    '''Find movement\n",
        "\n",
        "    arguments: \n",
        "      raw: DataFrame, datatset from mne function for brainproducts file reading\n",
        "      time: list with [start, end], contains start and end of raw data to analise\n",
        "      mscl: str, name of EMG chanel\n",
        "      window: int, window size in ms \n",
        "      thrs: int, threshold in uV to find movement start in the whole signal\n",
        "      thrs2:  int, threshold in uV to find more accurate movement start/end moment in the window \n",
        "          where movement started/ended based in thrs\n",
        "      positive: float, percentage of ticks in the window which should be less or eaqual\n",
        "          to thrs/thrs2\n",
        "    '''\n",
        "    \n",
        "    # 0. Select data\n",
        "    # ms to select time window to find movement start (ms)\n",
        "    try:\n",
        "        start = time[0]\n",
        "        end=time[1]\n",
        "    except:\n",
        "        start = time[0]\n",
        "        end = raw.to_data_frame().time.max()\n",
        "\n",
        "    #filters\n",
        "    # low cutoff\n",
        "    low = 5\n",
        "    # high cutoff\n",
        "    high = 2200\n",
        "    alldata = raw.filter(l_freq=low, h_freq=high, verbose=False).to_data_frame()\n",
        "    dat = alldata[(alldata.time>=start)&(alldata.time<=end)]\n",
        "\n",
        "    \n",
        "    # lists to save information  - do not change\n",
        "    time = []\n",
        "    cond_result = []\n",
        "    result = []\n",
        "\n",
        "    # 1. Sliding window to check condition \n",
        "    for m in range(dat.time.min(), dat.time.max()):\n",
        "\n",
        "        # selects data in the time window\n",
        "        wnd = np.abs(dat[(dat.time>=m)&(dat.time<=m+window)][mscl])\n",
        "\n",
        "        # check whether Share of picks higher than \"thrs\" is more than \"positive\" in the window\n",
        "        cond = np.where(wnd>=thrs, 1, 0).sum()/len(wnd)>=positive \n",
        "\n",
        "        # save condition check result (True, False) and first timestamp of the window\n",
        "        cond_result.append(cond)\n",
        "        time.append(m)\n",
        "\n",
        "        # save first timestamps of windows where cond was True\n",
        "        if cond == True:\n",
        "            result.append(m)\n",
        "\n",
        "\n",
        "    # 2. Find \"start\" and \"end\" of movement\n",
        "    result3 = pd.DataFrame({'times':time, 'result':cond_result})\n",
        "    result3['previous'] = result3.result.shift(1)\n",
        "    result3['change'] = result3.result - result3.previous\n",
        "\n",
        "    trig = result3[result3.change.isin([1,-1])].reset_index(drop=True)\n",
        "    trig['movement'] = np.where(trig.change==1, 'start', 'end')\n",
        "\n",
        "\n",
        "\n",
        "    # 3. select times in the suitable windows preciselly \n",
        "    res = []\n",
        "    for tr in trig.times:\n",
        "        wnd = np.abs(dat[(dat.time>=tr)&(dat.time<=tr+window)])\n",
        "\n",
        "        if trig[trig.times==tr].movement.values[0] == 'start':\n",
        "            # select time when uV achived thrs first\n",
        "            first = wnd[wnd[mscl]>=thrs2].time.min()\n",
        "            res.append(first)\n",
        "        else: \n",
        "            last = wnd[wnd[mscl]>=thrs2].time.max()\n",
        "            res.append(last)\n",
        "            \n",
        "    return res, dat\n",
        "\n",
        "a = np.array([1,2,3,4,5,6,7,8,9],dtype=int)\n",
        "print(a > 3)\n",
        "print(a[a > 3])\n"
      ],
      "execution_count": null,
      "outputs": []
    },
    {
      "cell_type": "code",
      "metadata": {
        "id": "HOHEi_PPgEPS"
      },
      "source": [
        "def plot_signal(data, movement_time):\n",
        "    \"\"\"\n",
        "    Interactive plot to see movement start closer\n",
        "\n",
        "    Arguments:\n",
        "      data: DataFrame with EMG by channels\n",
        "      movement_time: array with times of movement start/end\n",
        "    \"\"\"\n",
        "\n",
        "    fig, (ax0) = plt.subplots(nrows=1)\n",
        "    for r in movement_time:\n",
        "        ax0.axvline(x=r, color='r')\n",
        "\n",
        "    ax0.plot(data.time, data[mscl], label='signal')\n",
        "    ax0.legend()\n",
        "    \n",
        "    \n",
        "def plot_emg_events(raw, movement_time):\n",
        "    \"\"\"\n",
        "    MNE Interactive plot to see whole EMG with movement time markups\n",
        "\n",
        "    Arguments:\n",
        "      raw: emg file\n",
        "      movement_time: array with times of movement start/end\n",
        "    \"\"\"\n",
        "    # create event list from movemet_times and name each event with order number\n",
        "    events = pd.DataFrame({'time':np.array(movement_time)*5, 'event_value':1, 'event_name':list(range(1,len(np.array(movement_time))+1))})\n",
        "    raw.plot(n_channels=1, event_color='red', \n",
        "             events=np.array(events), \n",
        "             scalings=1e-3, \n",
        "             highpass=10, lowpass=2200)\n",
        "    \n",
        "def create_events(movement_time):\n",
        "    \"\"\"\n",
        "    Creates event list from movemet_times and name each event with order number\n",
        "\n",
        "    Arguments:\n",
        "      movement_time: array with times of movement start/end\n",
        "    \"\"\"\n",
        "    events = pd.DataFrame({'time':np.array(movement_time), 'event_value':1, 'event_name':list(range(1,len(np.array(movement_time))+1))})\n",
        "    return events\n",
        "\n",
        "    \n",
        "\n",
        "from ipywidgets import widgets  \n",
        "from ipywidgets import interact, interactive, fixed, interact_manual \n",
        "\n",
        "def adjust_movements(ev):\n",
        "    \"\"\"\n",
        "    Interactive program based on widgets to Manually adjast Algo movement markups\n",
        "\n",
        "    Arguments:\n",
        "      ev: array with time of movement markups which are need to be adjasted\n",
        "    \"\"\"\n",
        "    \n",
        "    #raw file to dataframe\n",
        "    data = raw.filter(l_freq=5, h_freq=2200, verbose=False).to_data_frame()\n",
        "    \n",
        "    # create widget to list events with button 'next event'\n",
        "    button=widgets.Button(\n",
        "        value=False,\n",
        "        description='Next event',\n",
        "        disabled=False,\n",
        "        button_style='', # 'success', 'info', 'warning', 'danger' or ''\n",
        "        tooltip='Description',\n",
        "        icon='Saved' # (FontAwesome names without the `fa-` prefix)\n",
        "                        )\n",
        "\n",
        "    \n",
        "    l = [] # for loop - indexes list of redo events \n",
        "    new_ts = [] # list to save new times stamp\n",
        "\n",
        "    def plus(sender):\n",
        "        l.append(1)\n",
        "        index = np.array(l).sum()\n",
        "        try:\n",
        "            \n",
        "            # create windget to Change event position\n",
        "            w = widgets.FloatText(\n",
        "            value=ev[index-1],\n",
        "            min=ev[index-1]-800,\n",
        "            max=ev[index-1]+3000,\n",
        "            step=5,\n",
        "            description='New Value uV:',\n",
        "            disabled=False,\n",
        "            continuous_update=False,\n",
        "            orientation='horizontal',\n",
        "            )\n",
        "            \n",
        "            # function for visualisation of new timestamp based on windget to Change event position\n",
        "            def f(x):\n",
        "                fig, (ax0) = plt.subplots(nrows=1)\n",
        "                ax0.axvline(x=x, color='r')\n",
        "                ax0.plot(data[(data.time>=ev[index-1]-800)&(data.time<=ev[index-1]+3000)].time, \n",
        "                         data[(data.time>=ev[index-1]-800)&(data.time<=ev[index-1]+3000)][mscl], label='signal') \n",
        "\n",
        "            \n",
        "            # create Button to save new position\n",
        "            b=widgets.Button(\n",
        "                value=False,\n",
        "                description='Save timestamp',\n",
        "                disabled=False,\n",
        "                button_style='', # 'success', 'info', 'warning', 'danger' or ''\n",
        "                tooltip='Description',\n",
        "                icon='Saved' # (FontAwesome names without the `fa-` prefix)\n",
        "                )\n",
        "            \n",
        "            \n",
        "            saved_ts=[] # new timestamp list\n",
        "            \n",
        "            # function of button 'save timestemp' - it saves new value to the list\n",
        "            def but(sender):\n",
        "                saved_ts.append(w.value)\n",
        "\n",
        "            b.on_click(but)\n",
        "            display(b,interactive(f, x=w))\n",
        "            new_ts.append(saved_ts)\n",
        "            \n",
        "        except Exception as e:\n",
        "            print(\"You finished\")\n",
        "\n",
        "\n",
        "    button.on_click(plus)\n",
        "   \n",
        "\n",
        "    \n",
        "    return display(button),new_ts\n",
        "\n",
        "\n",
        "from oauth2client.service_account import ServiceAccountCredentials\n",
        "import gspread_dataframe as gsp\n",
        "import gspread\n",
        "\n",
        "# 1. SET UP GOOGLE SHEET API\n",
        "# ----------- CHANGE CREADENTIALS LOCATION ------------------------\n",
        "\n",
        "current_dir = '/content'\n",
        "GSPREAD_KEYS_PATH = current_dir + '/esoteric-pad-326113-4ab241befdd8.json' # this is the directory where your file with key located\n",
        " \n",
        "\n",
        "# Some functions for authorizing (no need to change something here)\n",
        "def authorize_at_gspread(gspread_key_path=GSPREAD_KEYS_PATH):\n",
        "    \"\"\"\n",
        "    Return authorized gspread object\n",
        "    :param gspread_key_path: path to credentials key\n",
        "    :return: gc object\n",
        "    \"\"\"\n",
        "    scope = ['https://spreadsheets.google.com/feeds']\n",
        "    credentials = ServiceAccountCredentials.from_json_keyfile_name(GSPREAD_KEYS_PATH, scope)\n",
        "    gc = gspread.authorize(credentials)\n",
        "    return gc\n",
        "# authorization\n",
        "authorize_at_gspread()\n",
        "\n",
        "\n",
        "# 2. Function for particular sheet connection\n",
        "def get_workbook(workbook_url, gspread_key_path=GSPREAD_KEYS_PATH):\n",
        "    \"\"\" Returns GSPREAD object with opened workbook.\n",
        "    Just open worksheet by referring to .worksheet(name) or use gspread_dataframe to load dataframe.\n",
        "    \"\"\"\n",
        "    gc = authorize_at_gspread(gspread_key_path=gspread_key_path)\n",
        "    return gc.open_by_url(workbook_url)\n",
        "\n",
        "\n",
        "# Damir - to write to a sheet fucntion\n",
        "def tospreadsheet (df, workbook_link, header = 'Title', key = 'new'):\n",
        "    \"\"\"Import dataframe to google spreadsheet by link\n",
        "    Args: \n",
        "        df: imported dataframe\n",
        "        workbook: link to dataframe\n",
        "        header: header of worksheet \n",
        "        key: default 'new'\n",
        "        if you want to use existing worksheet pass 'to existing sheet'\n",
        "\n",
        "    \"\"\"\n",
        "    if key == 'new':\n",
        "        workbook = get_workbook(workbook_link)\n",
        "        wks = workbook.add_worksheet(header, len(df.index),len(df.columns))\n",
        "        gsp.set_with_dataframe(wks, df, row = 1, col =1, include_column_header=True)\n",
        "\n",
        "    elif key == 'existing':\n",
        "        workbook = get_workbook(workbook)\n",
        "        wks = workbook.worksheet(header)\n",
        "        gsp.set_with_dataframe(wks, df, row = 1, col =1, include_column_header=True)\n",
        "        \n",
        "\n",
        "def gsheet(header,new_t):\n",
        "    \n",
        "    new = pd.DataFrame({'events_to_correct':redo})\n",
        "    new2=pd.concat([new, pd.DataFrame(new_t[1])], axis=1).set_index('events_to_correct')\n",
        "\n",
        "    result = events[['time','event_name']].set_index('event_name')\n",
        "\n",
        "    final = pd.concat([result,new2],axis=1)\n",
        "    final['muscle'] = mscl\n",
        "    final['file'] = path[-20:path.find('.vhdr')][path[-20:path.find('.vhdr')].find('/')+1:]\n",
        "    final['final_corrected_movement_time'] = np.where(final[0].isna==False,final[0],final.time )\n",
        "    \n",
        "    link = 'https://docs.google.com/spreadsheets/d/1g0wJeyONCuivtppNc352MBkBIyOgY7FxkQq5XgaBjsg/edit?usp=sharing'\n",
        "\n",
        "    tospreadsheet(final, link, header)\n",
        "\n",
        "    return final\n"
      ],
      "execution_count": null,
      "outputs": []
    },
    {
      "cell_type": "markdown",
      "metadata": {
        "id": "WYW_8vn7gEPY"
      },
      "source": [
        "__Notebook  widgets set up commands and libraries (allow to plot interractive charts - essencial for \"Plot emg\"):__"
      ]
    },
    {
      "cell_type": "markdown",
      "metadata": {
        "id": "Vy3mNbWZgEPZ"
      },
      "source": [
        "## Uppload data"
      ]
    },
    {
      "cell_type": "markdown",
      "metadata": {
        "id": "HNDRsMB11by_"
      },
      "source": [
        "Contact google driver"
      ]
    },
    {
      "cell_type": "code",
      "metadata": {
        "id": "HaEF583q1K78",
        "colab": {
          "base_uri": "https://localhost:8080/"
        },
        "outputId": "e0f79382-c27a-488b-90ce-8b2d30c6bf3f"
      },
      "source": [
        "from google.colab import drive\n",
        "drive.mount('/content/drive', force_remount=True)\n",
        "\n",
        "root_path = 'My Drive/participants/'"
      ],
      "execution_count": null,
      "outputs": [
        {
          "output_type": "stream",
          "name": "stdout",
          "text": [
            "Mounted at /content/drive\n"
          ]
        }
      ]
    },
    {
      "cell_type": "code",
      "metadata": {
        "id": "np3pKtJHgEPZ",
        "colab": {
          "base_uri": "https://localhost:8080/"
        },
        "outputId": "89ffa429-c946-497e-a31d-ec23e81d8d42"
      },
      "source": [
        "# 1. file path\n",
        "#path = '/Users/ksenia.kozlova/Downloads/New trial/PoAn_12/PoAN_APB_3.vhdr'\n",
        "path = '/content/PoAn/PoAn_APB_3.vhdr'\n",
        "#path = 'drive/My Drive/participants/VaGe_25/rADM_70max_2.vhdr'\n",
        "\n",
        "raw = mne.io.read_raw_brainvision(path,verbose=False)"
      ],
      "execution_count": null,
      "outputs": [
        {
          "output_type": "stream",
          "name": "stderr",
          "text": [
            "<ipython-input-73-b3eb3eb9699e>:6: RuntimeWarning: Online software filter detected. Using software filter settings and ignoring hardware values\n",
            "  raw = mne.io.read_raw_brainvision(path,verbose=False)\n"
          ]
        }
      ]
    },
    {
      "cell_type": "markdown",
      "metadata": {
        "id": "vJnC0_DzgEPa"
      },
      "source": [
        "__Information about the record__"
      ]
    },
    {
      "cell_type": "code",
      "metadata": {
        "id": "m63tzNozgEPa",
        "colab": {
          "base_uri": "https://localhost:8080/"
        },
        "outputId": "0d56252c-cf42-494f-bb53-febfd9fe6346"
      },
      "source": [
        "print(raw.info)"
      ],
      "execution_count": null,
      "outputs": [
        {
          "output_type": "stream",
          "name": "stdout",
          "text": [
            "<Info | 7 non-empty values\n",
            " bads: []\n",
            " ch_names: rAPB, rADM, rECU, lAPB, lADM, lECU\n",
            " chs: 6 EEG\n",
            " custom_ref_applied: False\n",
            " highpass: 10.0 Hz\n",
            " lowpass: 2500.0 Hz\n",
            " meas_date: 2021-03-05 19:01:25 UTC\n",
            " nchan: 6\n",
            " projs: []\n",
            " sfreq: 5000.0 Hz\n",
            ">\n"
          ]
        }
      ]
    },
    {
      "cell_type": "code",
      "metadata": {
        "id": "anIOHFxTgEPa"
      },
      "source": [
        "# apply notch if needed\n",
        "notch = raw.load_data().copy().notch_filter(freqs=(50),verbose=False) #filter"
      ],
      "execution_count": null,
      "outputs": []
    },
    {
      "cell_type": "markdown",
      "metadata": {
        "id": "NuZD2C-bgEPb"
      },
      "source": [
        "## Plot EMG"
      ]
    },
    {
      "cell_type": "markdown",
      "metadata": {
        "id": "7nKQbNM4gEPb"
      },
      "source": [
        "__INSTRUCTION__\n",
        "\n",
        "To move recording by time:\n",
        "- just click on the plot to activate\n",
        "- push arrows \">\" and \"<\" on the keyboard\n",
        "\n",
        "To set up uV:\n",
        "- just click on the plot to activate\n",
        "- press \"+\" and \"-\" in the keyboard\n",
        "\n",
        "To expand plot window:\n",
        "- just click on the plot to activate\n",
        "- pull triangular icon in the down right corner: \n",
        "![image-2.png](attachment:image-2.png)\n",
        "\n",
        "To save plot picture:\n",
        "- press the icon on the left pannel: \n",
        "![image-3.png](attachment:image-3.png)\n",
        "\n",
        "\n",
        "To zoom part of signal:\n",
        "- press the following icon on the left pannel, then select part of interest\n",
        "![image-4.png](attachment:image-4.png)\n",
        "- click the arrow to move chart\n",
        "![image-5.png](attachment:image-5.png)\n",
        "- press the icon to back normal view\n",
        "![image-6.png](attachment:image-6.png)\n"
      ]
    },
    {
      "cell_type": "code",
      "metadata": {
        "colab": {
          "base_uri": "https://localhost:8080/",
          "height": 153,
          "referenced_widgets": [
            "107fb4c9afbd45e1847375b66412e925"
          ]
        },
        "id": "0H-RRFXXgEPb",
        "outputId": "d48cb29e-735c-4479-ac5c-e207b06fe88f"
      },
      "source": [
        "#to plot\n",
        "try:\n",
        "    notch.plot(highpass=10, lowpass=2200)\n",
        "except: \n",
        "    raw.plot()"
      ],
      "execution_count": null,
      "outputs": [
        {
          "output_type": "stream",
          "name": "stdout",
          "text": [
            "Setting up band-pass filter from 10 - 2.2e+03 Hz\n",
            "\n",
            "IIR filter parameters\n",
            "---------------------\n",
            "Butterworth bandpass zero-phase (two-pass forward and reverse) non-causal filter:\n",
            "- Filter order 16 (effective, after forward-backward)\n",
            "- Cutoffs at 10.00, 2200.00 Hz: -6.02, -6.02 dB\n",
            "\n"
          ]
        },
        {
          "output_type": "display_data",
          "data": {
            "image/png": "[encoded data removed]",
            "application/vnd.jupyter.widget-view+json": {
              "model_id": "107fb4c9afbd45e1847375b66412e925",
              "version_minor": 0,
              "version_major": 2
            },
            "text/plain": [
              "Canvas(toolbar=Toolbar(toolitems=[('Home', 'Reset original view', 'home', 'home'), ('Back', 'Back to previous …"
            ]
          },
          "metadata": {}
        }
      ]
    },
    {
      "cell_type": "markdown",
      "metadata": {
        "id": "F4vMU-ZdgEPb"
      },
      "source": [
        "## Find movement ALGO"
      ]
    },
    {
      "cell_type": "markdown",
      "metadata": {
        "id": "pJGoLOVmgEPb"
      },
      "source": [
        "__1. Setup AlGO parameters__"
      ]
    },
    {
      "cell_type": "markdown",
      "metadata": {
        "id": "EuMDXQi5gEPc"
      },
      "source": [
        "1.1. Select trail part of data with 3-5 movements "
      ]
    },
    {
      "cell_type": "code",
      "metadata": {
        "id": "MlSFqH4ygEPc"
      },
      "source": [
        "# adjast\n",
        "muscle = 'rAPB'\n",
        "start_trial = 8000\n",
        "end_trial = 23000\n",
        "\n",
        "\n",
        "# no changes\n",
        "dat = raw.filter(l_freq=5, h_freq=2200, verbose=False).to_data_frame()[(raw.filter(l_freq=5, h_freq=2200,verbose=False).to_data_frame().time>=start_trial)&(raw.filter(l_freq=5, h_freq=2200,verbose=False).to_data_frame().time<=end_trial)]\n"
      ],
      "execution_count": null,
      "outputs": []
    },
    {
      "cell_type": "markdown",
      "metadata": {
        "id": "4PTsg6xEgEPd"
      },
      "source": [
        "Plot Trial signal"
      ]
    },
    {
      "cell_type": "code",
      "metadata": {
        "id": "n-P4HC5igEPd"
      },
      "source": [
        "# no change\n",
        "fig, (ax0) = plt.subplots(nrows=1)\n",
        "ax0.plot(dat.time, dat[str(muscle)])"
      ],
      "execution_count": null,
      "outputs": []
    },
    {
      "cell_type": "markdown",
      "metadata": {
        "id": "u1xdp1sYgEPd"
      },
      "source": [
        "2. Adjast. parameters (active msck, thrs, thrs2)"
      ]
    },
    {
      "cell_type": "code",
      "metadata": {
        "id": "vjfquWGYgEPd"
      },
      "source": [
        "# ADJUST\n",
        "\n",
        "# 1.muscle\n",
        "mscl = 'rAPB' #rapb\n",
        "\n",
        "# 2. Thresholds, (absolut value) uV activity threshold which concidered as a movement \n",
        "# thrs - general, thrs2 is more accurate in subwindow \n",
        "thrs = 27 \n",
        "thrs2 = 10\n",
        "\n",
        "\n",
        "# 3. time window to analyse (ms)\n",
        "# 650 is optimal \n",
        "window = 650 \n",
        "\n",
        "# 4. percentage of picks which should be higher than thrs in the window \n",
        "# 0.05 is optimal\n",
        "positive = 0.05 \n"
      ],
      "execution_count": null,
      "outputs": []
    },
    {
      "cell_type": "markdown",
      "metadata": {
        "id": "FWbVrmvNgEPe"
      },
      "source": [
        "3. Try algo settings on trial data at first."
      ]
    },
    {
      "cell_type": "code",
      "metadata": {
        "id": "av5lG5iygEPe"
      },
      "source": [
        "# no changes\n",
        "# start and end in ms\n",
        "trial_time = [start_trial, end_trial]\n",
        "# Run algo on trial data\n",
        "trial_movement_time, trial_data = find_movement(raw, trial_time, 'rAPB', window, thrs, thrs2, positive)\n"
      ],
      "execution_count": null,
      "outputs": []
    },
    {
      "cell_type": "code",
      "metadata": {
        "id": "tkM1BJ00gEPe"
      },
      "source": [
        "# plot trial\n",
        "plot_signal(trial_data, trial_movement_time)"
      ],
      "execution_count": null,
      "outputs": []
    },
    {
      "cell_type": "markdown",
      "metadata": {
        "id": "MoxoWGjpgEPf"
      },
      "source": [
        "__If the Movement start is not acurate enough, Adjast thrs,thrs2 and try again #2__"
      ]
    },
    {
      "cell_type": "markdown",
      "metadata": {
        "id": "ipR36nY0gEPf"
      },
      "source": [
        "4. Apply to the whole recording (here time = [0] which means \"start from 0 second\""
      ]
    },
    {
      "cell_type": "code",
      "metadata": {
        "id": "oSatFPK9gEPf"
      },
      "source": [
        "movement_time, data = find_movement(raw, [0], 'rAPB', window, thrs, thrs2, positive)"
      ],
      "execution_count": null,
      "outputs": []
    },
    {
      "cell_type": "code",
      "metadata": {
        "id": "HdcVOOfHgEPf"
      },
      "source": [
        "# plot Algo Markup way1\n",
        "plot_signal(data, movement_time)"
      ],
      "execution_count": null,
      "outputs": []
    },
    {
      "cell_type": "markdown",
      "metadata": {
        "id": "MOL2y1ZfgEPf"
      },
      "source": [
        "## Manual adjastment of Algo Movement Markup"
      ]
    },
    {
      "cell_type": "code",
      "metadata": {
        "id": "hEnBgjQZgEPf"
      },
      "source": [
        "# plot Algo Markup way2\n",
        "plot_emg_events(raw, movement_time)"
      ],
      "execution_count": null,
      "outputs": []
    },
    {
      "cell_type": "markdown",
      "metadata": {
        "id": "flKbMcA8gEPg"
      },
      "source": [
        "__1. save number of events to redo__"
      ]
    },
    {
      "cell_type": "code",
      "metadata": {
        "id": "nYEUXHFwgEPg"
      },
      "source": [
        "# change\n",
        "redo = [13,21,27,29,37]"
      ],
      "execution_count": null,
      "outputs": []
    },
    {
      "cell_type": "code",
      "metadata": {
        "id": "o_FbZNvlgEPg"
      },
      "source": [
        "# no change\n",
        "events = create_events(movement_time)"
      ],
      "execution_count": null,
      "outputs": []
    },
    {
      "cell_type": "code",
      "metadata": {
        "id": "szveN2uDgEPg"
      },
      "source": [
        "events[events.event_name.isin(redo)].reset_index().time"
      ],
      "execution_count": null,
      "outputs": []
    },
    {
      "cell_type": "markdown",
      "metadata": {
        "id": "cjszKegPgEPg"
      },
      "source": [
        "__2. Manually adjast movement markup__"
      ]
    },
    {
      "cell_type": "code",
      "metadata": {
        "scrolled": false,
        "id": "yiuIYHi2gEPh"
      },
      "source": [
        "new_timings = adjust_movements(events[events.event_name.isin(redo)].reset_index().time)"
      ],
      "execution_count": null,
      "outputs": []
    },
    {
      "cell_type": "markdown",
      "metadata": {
        "id": "nZhb49cJgEPh"
      },
      "source": [
        "__3. Save Movement times to Google sheet together with adjasted__"
      ]
    },
    {
      "cell_type": "code",
      "metadata": {
        "id": "D2PZOin6gEPh"
      },
      "source": [
        "# change\n",
        "sheet_name = 'trial_colab'\n",
        "\n",
        "corrected_time = gsheet(sheet_name, new_timings)"
      ],
      "execution_count": null,
      "outputs": []
    },
    {
      "cell_type": "markdown",
      "metadata": {
        "id": "Xafzb3HUgEPh"
      },
      "source": [
        "__See movement times in the file:__\n",
        "\n",
        "https://docs.google.com/spreadsheets/d/1g0wJeyONCuivtppNc352MBkBIyOgY7FxkQq5XgaBjsg/edit?usp=sharing"
      ]
    },
    {
      "cell_type": "code",
      "metadata": {
        "id": "oYpCR-fXgEPi"
      },
      "source": [
        "corrected_time"
      ],
      "execution_count": null,
      "outputs": []
    },
    {
      "cell_type": "markdown",
      "metadata": {
        "id": "PplSHKQGgEPi"
      },
      "source": [
        "## Plot signal with final movement start Markups"
      ]
    },
    {
      "cell_type": "code",
      "metadata": {
        "id": "IiU2ZJd7gEPi"
      },
      "source": [
        "plot_emg_events(raw, corrected_time.final_corrected_movement_time)"
      ],
      "execution_count": null,
      "outputs": []
    },
    {
      "cell_type": "markdown",
      "metadata": {
        "id": "A4VqqXGzgEPi"
      },
      "source": [
        "# Movement time found - the end"
      ]
    }
  ]
}